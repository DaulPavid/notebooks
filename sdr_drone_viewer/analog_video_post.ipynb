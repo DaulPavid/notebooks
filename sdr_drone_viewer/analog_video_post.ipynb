{
 "cells": [
  {
   "cell_type": "markdown",
   "metadata": {},
   "source": [
    "# Viewing FPV Analog Video Signals Using Software-Defined Radios (SDR)"
   ]
  },
  {
   "cell_type": "markdown",
   "metadata": {},
   "source": [
    "## Overview"
   ]
  },
  {
   "cell_type": "markdown",
   "metadata": {},
   "source": [
    "Many FPV drones utilize 5.8 GHz for their video downlinks. I'm not entirely sure if all drones utilize 5.8 GHz and the same waveform for their video downlinks, but I decided to write a software-defined radio based receiver using the HackRF One as my SDR, and a cheap JJ Pro Mini FPV quadcopter as my drone. The HackRF One is a reasonably priced SDR that is capable of tuning between 1 MHz and 6 GHz, and can sample high enough (20 Msps) for my requirements.\n",
    "\n",
    "This article goes into some of the technical details of receiving the analog video signal from common FPV video transmitters using SDR. I also highlight my [sdr-drone-viewer](https://github.com/DaulPavid/sdr-drone-viewer) project that can use any SDR capable of sampling at 10 Msps and tuning to 5.8 GHz to receive an FPV drone signal."
   ]
  },
  {
   "cell_type": "code",
   "execution_count": null,
   "metadata": {},
   "outputs": [],
   "source": []
  }
 ],
 "metadata": {
  "kernelspec": {
   "display_name": "Python 3",
   "language": "python",
   "name": "python3"
  },
  "language_info": {
   "codemirror_mode": {
    "name": "ipython",
    "version": 3
   },
   "file_extension": ".py",
   "mimetype": "text/x-python",
   "name": "python",
   "nbconvert_exporter": "python",
   "pygments_lexer": "ipython3",
   "version": "3.7.1"
  }
 },
 "nbformat": 4,
 "nbformat_minor": 2
}
